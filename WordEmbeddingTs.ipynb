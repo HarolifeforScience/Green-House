{
  "nbformat": 4,
  "nbformat_minor": 0,
  "metadata": {
    "colab": {
      "name": "MLLabor6.ipynb",
      "provenance": [],
      "collapsed_sections": [],
      "authorship_tag": "ABX9TyPtt0h+vE+DGloRyzlesz+F",
      "include_colab_link": true
    },
    "kernelspec": {
      "name": "python3",
      "display_name": "Python 3"
    },
    "language_info": {
      "name": "python"
    }
  },
  "cells": [
    {
      "cell_type": "markdown",
      "metadata": {
        "id": "view-in-github",
        "colab_type": "text"
      },
      "source": [
        "<a href=\"https://colab.research.google.com/github/HarolifeforScience/Green-House/blob/main/WordEmbeddingTs.ipynb\" target=\"_parent\"><img src=\"https://colab.research.google.com/assets/colab-badge.svg\" alt=\"Open In Colab\"/></a>"
      ]
    },
    {
      "cell_type": "code",
      "execution_count": 28,
      "metadata": {
        "id": "65wYB5uRReaK"
      },
      "outputs": [],
      "source": [
        "import io\n",
        "import os \n",
        "import re \n",
        "import string\n",
        "import shutil\n",
        "import pathlib\n",
        "\n",
        "import tensorflow as tf\n",
        "import tensorflow_hub as hub\n",
        "from tensorflow.keras.layers import Dense as tfDense\n",
        "from tensorflow.keras.layers import TextVectorization as tfVec\n",
        "from tensorflow.keras.layers import GlobalAveragePooling1D,Embedding\n",
        "import tensorflow_datasets\n",
        "import matplotlib.pyplot  as plt \n",
        "\n",
        "#TextVectorization Ebene :\n",
        "\n",
        "#1.standardisieren sie jede probe (normalerweise kleinschreibung + interpunktionsstreifen) \n",
        "#2. teilen sie jedes beispiel in teilzeichenfolgen (normalerweise wörter) auf. \n",
        "#3. kombinieren sie teilzeichenfolgen zu token (normalerweise ngrams) \n",
        "#4. indextoken (ordnen sie jedem token einen eindeutigen int-wert zu) \n",
        "#5. transformieren sie jede stichprobe mit diesem index entweder in einen vektor \n",
        "#von ints oder in einen dichten gleitkommavektor.\n",
        "\n",
        "## import io\n",
        "## import os\n",
        "## .\n",
        "## .\n",
        "## .\n",
        "## .\n",
        "## import tensorflow\n",
        "## import tensorflow_hub\n",
        "## import tensorflow_datasets\n",
        "## import matplotlib.pyplot"
      ]
    },
    {
      "cell_type": "code",
      "source": [
        "url = \"https://ai.stanford.edu/~amaas/data/sentiment/aclImdb_v1.tar.gz\"\n",
        "dataset = tf.keras.utils.get_file(\"acLimdb_v1.tar.gz\",url, \n",
        "                                  untar = True , cache_dir = '.' , \n",
        "                                  cache_subdir = '')\n",
        "dataset_dir = os.path.join(os.path.dirname(dataset),'aclImdb')\n",
        "os.listdir(dataset_dir)\n",
        "# dataset = tf.keras.utils.get_file(\"aclImdb_v1.tar.gz\", url, untar=True, cache_dir='.', cache_subdir='')\n",
        "# save the data in folder called - \"aclImdb\"\n",
        "# list directory\n",
        "# os.listdir(dataset_dir)"
      ],
      "metadata": {
        "colab": {
          "base_uri": "https://localhost:8080/"
        },
        "id": "3Lg_1pR1SOVO",
        "outputId": "cf249181-e024-4cc5-e51b-3805c45c535e"
      },
      "execution_count": 8,
      "outputs": [
        {
          "output_type": "execute_result",
          "data": {
            "text/plain": [
              "['test', 'README', 'imdb.vocab', 'imdbEr.txt', 'train']"
            ]
          },
          "metadata": {},
          "execution_count": 8
        }
      ]
    },
    {
      "cell_type": "code",
      "source": [
        "train_dir = os.path.join(dataset_dir,'train')\n",
        "unsup_dir = os.path.join(train_dir, 'unsup')\n",
        "shutil.rmtree(unsup_dir)\n",
        "## shutil.rmtree(remove_dir)\n",
        "## remove_dir = create path for unsup\n",
        "## shutil.rmtree(remove_dir)"
      ],
      "metadata": {
        "id": "21wNkYpFsLu0"
      },
      "execution_count": 10,
      "outputs": []
    },
    {
      "cell_type": "code",
      "source": [
        "batch_size = 1024\n",
        "seed = 123\n",
        "\n",
        "train_ds = tf.keras.utils.text_dataset_from_directory(\n",
        "    'aclImdb/train', \n",
        "    batch_size=batch_size,\n",
        "    validation_split = 0.2,\n",
        "    subset = 'training',\n",
        "    seed = seed\n",
        "    )\n",
        "val_ds = tf.keras.utils.text_dataset_from_directory(\n",
        "    'aclImdb/train',\n",
        "    batch_size = batch_size,\n",
        "    validation_split = 0.2,\n",
        "    subset = 'validation',\n",
        "    seed = seed\n",
        ")\n",
        "## batch_size = 1024\n",
        "## seed = 123\n",
        "## train_ds = tf.keras.utils.text_dataset_from_directory()\n",
        "## val_ds = tf.keras.utils.text_dataset_from_directory()"
      ],
      "metadata": {
        "colab": {
          "base_uri": "https://localhost:8080/"
        },
        "id": "rpV2CE9i_7QG",
        "outputId": "8062246a-3ead-4435-e185-94b08b583bb8"
      },
      "execution_count": 17,
      "outputs": [
        {
          "output_type": "stream",
          "name": "stdout",
          "text": [
            "Found 25000 files belonging to 2 classes.\n",
            "Using 20000 files for training.\n",
            "Found 25000 files belonging to 2 classes.\n",
            "Using 5000 files for validation.\n"
          ]
        }
      ]
    },
    {
      "cell_type": "code",
      "source": [
        "for text_batch, label_batch in train_ds.take(1):\n",
        "  for i in range(5):\n",
        "    print(\"text\", text_batch.numpy()[i])\n",
        "    print(\"Label\", label_batch.numpy()[i])\n",
        "## for text_batch, label_batch in train_ds.take(1):\n",
        "  ## for i in range(5):\n",
        "    ## print(label_batch[i].numpy(), text_batch.numpy()[i])"
      ],
      "metadata": {
        "colab": {
          "base_uri": "https://localhost:8080/"
        },
        "id": "8MLU6uc8F3jL",
        "outputId": "d4d8c2ac-2cb3-4d32-8898-585edb36895f"
      },
      "execution_count": 18,
      "outputs": [
        {
          "output_type": "stream",
          "name": "stdout",
          "text": [
            "text b\"Oh My God! Please, for the love of all that is holy, Do Not Watch This Movie! It it 82 minutes of my life I will never get back. Sure, I could have stopped watching half way through. But I thought it might get better. It Didn't. Anyone who actually enjoyed this movie is one seriously sick and twisted individual. No wonder us Australians/New Zealanders have a terrible reputation when it comes to making movies. Everything about this movie is horrible, from the acting to the editing. I don't even normally write reviews on here, but in this case I'll make an exception. I only wish someone had of warned me before I hired this catastrophe\"\n",
            "Label 0\n",
            "text b'This movie is SOOOO funny!!! The acting is WONDERFUL, the Ramones are sexy, the jokes are subtle, and the plot is just what every high schooler dreams of doing to his/her school. I absolutely loved the soundtrack as well as the carefully placed cynicism. If you like monty python, You will love this film. This movie is a tad bit \"grease\"esk (without all the annoying songs). The songs that are sung are likable; you might even find yourself singing these songs once the movie is through. This musical ranks number two in musicals to me (second next to the blues brothers). But please, do not think of it as a musical per say; seeing as how the songs are so likable, it is hard to tell a carefully choreographed scene is taking place. I think of this movie as more of a comedy with undertones of romance. You will be reminded of what it was like to be a rebellious teenager; needless to say, you will be reminiscing of your old high school days after seeing this film. Highly recommended for both the family (since it is a very youthful but also for adults since there are many jokes that are funnier with age and experience.'\n",
            "Label 1\n",
            "text b\"Alex D. Linz replaces Macaulay Culkin as the central figure in the third movie in the Home Alone empire. Four industrial spies acquire a missile guidance system computer chip and smuggle it through an airport inside a remote controlled toy car. Because of baggage confusion, grouchy Mrs. Hess (Marian Seldes) gets the car. She gives it to her neighbor, Alex (Linz), just before the spies turn up. The spies rent a house in order to burglarize each house in the neighborhood until they locate the car. Home alone with the chicken pox, Alex calls 911 each time he spots a theft in progress, but the spies always manage to elude the police while Alex is accused of making prank calls. The spies finally turn their attentions toward Alex, unaware that he has rigged devices to cleverly booby-trap his entire house. Home Alone 3 wasn't horrible, but probably shouldn't have been made, you can't just replace Macauley Culkin, Joe Pesci, or Daniel Stern. Home Alone 3 had some funny parts, but I don't like when characters are changed in a movie series, view at own risk.\"\n",
            "Label 0\n",
            "text b\"There's a good movie lurking here, but this isn't it. The basic idea is good: to explore the moral issues that would face a group of young survivors of the apocalypse. But the logic is so muddled that it's impossible to get involved.<br /><br />For example, our four heroes are (understandably) paranoid about catching the mysterious airborne contagion that's wiped out virtually all of mankind. Yet they wear surgical masks some times, not others. Some times they're fanatical about wiping down with bleach any area touched by an infected person. Other times, they seem completely unconcerned.<br /><br />Worse, after apparently surviving some weeks or months in this new kill-or-be-killed world, these people constantly behave like total newbs. They don't bother accumulating proper equipment, or food. They're forever running out of fuel in the middle of nowhere. They don't take elementary precautions when meeting strangers. And after wading through the rotting corpses of the entire human race, they're as squeamish as sheltered debutantes. You have to constantly wonder how they could have survived this long... and even if they did, why anyone would want to make a movie about them.<br /><br />So when these dweebs stop to agonize over the moral dimensions of their actions, it's impossible to take their soul-searching seriously. Their actions would first have to make some kind of minimal sense.<br /><br />On top of all this, we must contend with the dubious acting abilities of Chris Pine. His portrayal of an arrogant young James T Kirk might have seemed shrewd, when viewed in isolation. But in Carriers he plays on exactly that same note: arrogant and boneheaded. It's impossible not to suspect that this constitutes his entire dramatic range.<br /><br />On the positive side, the film *looks* excellent. It's got an over-sharp, saturated look that really suits the southwestern US locale. But that can't save the truly feeble writing nor the paper-thin (and annoying) characters. Even if you're a fan of the end-of-the-world genre, you should save yourself the agony of watching Carriers.\"\n",
            "Label 0\n",
            "text b'I saw this movie at an actual movie theater (probably the $2.00 one) with my cousin and uncle. We were around 11 and 12, I guess, and really into scary movies. I remember being so excited to see it because my cool uncle let us pick the movie (and we probably never got to do that again!) and sooo disappointed afterwards!! Just boring and not scary. The only redeeming thing I can remember was Corky Pigeon from Silver Spoons, and that wasn\\'t all that great, just someone I recognized. I\\'ve seen bad movies before and this one has always stuck out in my mind as the worst. This was from what I can recall, one of the most boring, non-scary, waste of our collective $6, and a waste of film. I have read some of the reviews that say it is worth a watch and I say, \"Too each his own\", but I wouldn\\'t even bother. Not even so bad it\\'s good.'\n",
            "Label 0\n"
          ]
        }
      ]
    },
    {
      "cell_type": "code",
      "source": [
        "AUTOTUNE = tf.data.AUTOTUNE\n",
        "\n",
        "train_ds = train_ds.cache().prefetch(AUTOTUNE)\n",
        "val_ds = val_ds.cache().prefetch(AUTOTUNE)\n",
        "## AUTOTUNE = tf.data.AUTOTUNE\n",
        "\n",
        "## train_ds = cache and prefetch train_ds\n",
        "## val_ds = cache and prefetch val_ds"
      ],
      "metadata": {
        "id": "8xg5Qdj7IhTC"
      },
      "execution_count": 19,
      "outputs": []
    },
    {
      "cell_type": "markdown",
      "source": [
        "Hier brauche ich eine Erklärung (Embedding -->?)\n"
      ],
      "metadata": {
        "id": "PdEpakWaOdb6"
      }
    },
    {
      "cell_type": "code",
      "source": [
        "embedding_layer = tf.keras.layers.Embedding(1000,5)\n",
        "result = embedding_layer(tf.constant([1,2,3]))\n",
        "result.numpy()\n",
        "result = embedding_layer(tf.constant([[0,1,2],[3,4,5]]))\n",
        "result.shape"
      ],
      "metadata": {
        "colab": {
          "base_uri": "https://localhost:8080/"
        },
        "id": "iiK1GWtyM3KM",
        "outputId": "30396c5e-f1cb-4de1-ece0-c4bdeb1b936c"
      },
      "execution_count": 20,
      "outputs": [
        {
          "output_type": "execute_result",
          "data": {
            "text/plain": [
              "TensorShape([2, 3, 5])"
            ]
          },
          "metadata": {},
          "execution_count": 20
        }
      ]
    },
    {
      "cell_type": "code",
      "source": [
        "from numpy import string_\n",
        "def custom_standardization(input_data):\n",
        "  lowercase = tf.strings.lower(input_data)\n",
        "  s_html = tf.strings.regex_replace(lowercase, '<br />' , ' ')\n",
        "  return tf.strings.regex_replace(s_html, '[%s]' % re.escape(string.punctuation), '')\n",
        "\n",
        "## def custom_standardization(input_data):\n",
        "    ## lowercase = convert input_data to lowercase\n",
        "    ## cleanData = use tf.string.regex_replace to replace <br /> tags from text\n",
        "    ## returnData = clean punctuation using regex_replace and return it \n",
        "\n",
        "vocab_size = 10000\n",
        "sequence_length = 100\n",
        "\n",
        "vectorize_layer = tfVec(\n",
        "        standardize = custom_standardization,\n",
        "        max_tokens = vocab_size,\n",
        "        output_mode = 'int',\n",
        "        output_sequence_length = sequence_length \n",
        "        )\n",
        "\n",
        "text_ds = train_ds.map(lambda x,y : x)\n",
        "vectorize_layer.adapt(text_ds)\n",
        "\n",
        "\n",
        "  "
      ],
      "metadata": {
        "id": "laltgIZDOcgH"
      },
      "execution_count": 27,
      "outputs": []
    },
    {
      "cell_type": "code",
      "source": [
        "embedding_dim = 16\n",
        "model = tf.keras.Sequential([\n",
        "    vectorize_layer,\n",
        "    Embedding(vocab_size,embedding_dim,name ='embedding'),\n",
        "    GlobalAveragePooling1D(),\n",
        "    tfDense(16,activation = 'relu'),\n",
        "    tfDense(1)]\n",
        ")\n",
        "\n",
        "\n",
        "model.compile(optimizer='adam',\n",
        "              loss = tf.keras.losses.BinaryCrossentropy(from_logits = True),\n",
        "              metrics = ['accuracy']\n",
        "              )\n",
        "model.fit(\n",
        "    train_ds,\n",
        "    validation_data = val_ds,\n",
        "    epochs = 15\n",
        ")\n"
      ],
      "metadata": {
        "colab": {
          "base_uri": "https://localhost:8080/"
        },
        "id": "o75Gb2XlUJvn",
        "outputId": "10a40d54-f185-445a-f434-c16c1e9350b1"
      },
      "execution_count": 30,
      "outputs": [
        {
          "output_type": "stream",
          "name": "stdout",
          "text": [
            "Epoch 1/15\n",
            "20/20 [==============================] - 5s 196ms/step - loss: 0.6921 - accuracy: 0.5028 - val_loss: 0.6902 - val_accuracy: 0.4886\n",
            "Epoch 2/15\n",
            "20/20 [==============================] - 2s 81ms/step - loss: 0.6879 - accuracy: 0.5028 - val_loss: 0.6847 - val_accuracy: 0.4886\n",
            "Epoch 3/15\n",
            "20/20 [==============================] - 2s 81ms/step - loss: 0.6800 - accuracy: 0.5028 - val_loss: 0.6746 - val_accuracy: 0.4886\n",
            "Epoch 4/15\n",
            "20/20 [==============================] - 2s 80ms/step - loss: 0.6671 - accuracy: 0.5028 - val_loss: 0.6597 - val_accuracy: 0.4886\n",
            "Epoch 5/15\n",
            "20/20 [==============================] - 2s 81ms/step - loss: 0.6485 - accuracy: 0.5028 - val_loss: 0.6395 - val_accuracy: 0.4886\n",
            "Epoch 6/15\n",
            "20/20 [==============================] - 2s 81ms/step - loss: 0.6240 - accuracy: 0.5214 - val_loss: 0.6144 - val_accuracy: 0.5390\n",
            "Epoch 7/15\n",
            "20/20 [==============================] - 2s 81ms/step - loss: 0.5943 - accuracy: 0.5948 - val_loss: 0.5859 - val_accuracy: 0.6054\n",
            "Epoch 8/15\n",
            "20/20 [==============================] - 2s 80ms/step - loss: 0.5610 - accuracy: 0.6692 - val_loss: 0.5560 - val_accuracy: 0.6590\n",
            "Epoch 9/15\n",
            "20/20 [==============================] - 2s 80ms/step - loss: 0.5265 - accuracy: 0.7223 - val_loss: 0.5268 - val_accuracy: 0.6970\n",
            "Epoch 10/15\n",
            "20/20 [==============================] - 2s 82ms/step - loss: 0.4929 - accuracy: 0.7587 - val_loss: 0.5001 - val_accuracy: 0.7296\n",
            "Epoch 11/15\n",
            "20/20 [==============================] - 2s 79ms/step - loss: 0.4619 - accuracy: 0.7831 - val_loss: 0.4768 - val_accuracy: 0.7480\n",
            "Epoch 12/15\n",
            "20/20 [==============================] - 2s 81ms/step - loss: 0.4341 - accuracy: 0.8033 - val_loss: 0.4572 - val_accuracy: 0.7596\n",
            "Epoch 13/15\n",
            "20/20 [==============================] - 2s 83ms/step - loss: 0.4097 - accuracy: 0.8183 - val_loss: 0.4410 - val_accuracy: 0.7700\n",
            "Epoch 14/15\n",
            "20/20 [==============================] - 2s 82ms/step - loss: 0.3881 - accuracy: 0.8309 - val_loss: 0.4276 - val_accuracy: 0.7788\n",
            "Epoch 15/15\n",
            "20/20 [==============================] - 2s 80ms/step - loss: 0.3691 - accuracy: 0.8413 - val_loss: 0.4166 - val_accuracy: 0.7872\n"
          ]
        },
        {
          "output_type": "execute_result",
          "data": {
            "text/plain": [
              "<keras.callbacks.History at 0x7fd714a7f510>"
            ]
          },
          "metadata": {},
          "execution_count": 30
        }
      ]
    },
    {
      "cell_type": "code",
      "source": [
        "weigths = model.get_layer('embedding').get_weights()[0]\n",
        "vocab = vectorize_layer.get_vocabulary()"
      ],
      "metadata": {
        "id": "Y24Q0vIyVkTl"
      },
      "execution_count": 31,
      "outputs": []
    },
    {
      "cell_type": "code",
      "source": [
        "out_v = io.open('vectors.tsv','w',encoding='utf-8')\n",
        "out_m = io.open('metadata.tsv','w',encoding='utf-8')\n",
        "\n",
        "for index , word in enumerate(vocab):\n",
        "  if index==0:\n",
        "    continue #skip 0 ,it's  padding\n",
        "  vec = weigths[index]\n",
        "  out_v.write('\\t'.join([str(x) for x in vec]) + '\\n')\n",
        "  out_m.write(word + \"\\n\")\n",
        "out_v.close()"
      ],
      "metadata": {
        "id": "VpliJ3hTXaKW"
      },
      "execution_count": 32,
      "outputs": []
    }
  ]
}